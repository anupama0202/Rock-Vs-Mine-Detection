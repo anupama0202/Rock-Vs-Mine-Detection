{
 "cells": [
  {
   "cell_type": "code",
   "execution_count": 1,
   "metadata": {},
   "outputs": [],
   "source": [
    "import numpy as np\n",
    "import pandas as pd\n",
    "import seaborn as sns\n",
    "import matplotlib.pyplot as plt"
   ]
  },
  {
   "cell_type": "code",
   "execution_count": 2,
   "metadata": {},
   "outputs": [],
   "source": [
    "df = pd.read_csv('../DATA/sonar.all-data.csv')"
   ]
  },
  {
   "cell_type": "code",
   "execution_count": 3,
   "metadata": {},
   "outputs": [
    {
     "data": {
      "text/html": [
       "<div>\n",
       "<style scoped>\n",
       "    .dataframe tbody tr th:only-of-type {\n",
       "        vertical-align: middle;\n",
       "    }\n",
       "\n",
       "    .dataframe tbody tr th {\n",
       "        vertical-align: top;\n",
       "    }\n",
       "\n",
       "    .dataframe thead th {\n",
       "        text-align: right;\n",
       "    }\n",
       "</style>\n",
       "<table border=\"1\" class=\"dataframe\">\n",
       "  <thead>\n",
       "    <tr style=\"text-align: right;\">\n",
       "      <th></th>\n",
       "      <th>Freq_1</th>\n",
       "      <th>Freq_2</th>\n",
       "      <th>Freq_3</th>\n",
       "      <th>Freq_4</th>\n",
       "      <th>Freq_5</th>\n",
       "      <th>Freq_6</th>\n",
       "      <th>Freq_7</th>\n",
       "      <th>Freq_8</th>\n",
       "      <th>Freq_9</th>\n",
       "      <th>Freq_10</th>\n",
       "      <th>...</th>\n",
       "      <th>Freq_52</th>\n",
       "      <th>Freq_53</th>\n",
       "      <th>Freq_54</th>\n",
       "      <th>Freq_55</th>\n",
       "      <th>Freq_56</th>\n",
       "      <th>Freq_57</th>\n",
       "      <th>Freq_58</th>\n",
       "      <th>Freq_59</th>\n",
       "      <th>Freq_60</th>\n",
       "      <th>Label</th>\n",
       "    </tr>\n",
       "  </thead>\n",
       "  <tbody>\n",
       "    <tr>\n",
       "      <th>0</th>\n",
       "      <td>0.0200</td>\n",
       "      <td>0.0371</td>\n",
       "      <td>0.0428</td>\n",
       "      <td>0.0207</td>\n",
       "      <td>0.0954</td>\n",
       "      <td>0.0986</td>\n",
       "      <td>0.1539</td>\n",
       "      <td>0.1601</td>\n",
       "      <td>0.3109</td>\n",
       "      <td>0.2111</td>\n",
       "      <td>...</td>\n",
       "      <td>0.0027</td>\n",
       "      <td>0.0065</td>\n",
       "      <td>0.0159</td>\n",
       "      <td>0.0072</td>\n",
       "      <td>0.0167</td>\n",
       "      <td>0.0180</td>\n",
       "      <td>0.0084</td>\n",
       "      <td>0.0090</td>\n",
       "      <td>0.0032</td>\n",
       "      <td>R</td>\n",
       "    </tr>\n",
       "    <tr>\n",
       "      <th>1</th>\n",
       "      <td>0.0453</td>\n",
       "      <td>0.0523</td>\n",
       "      <td>0.0843</td>\n",
       "      <td>0.0689</td>\n",
       "      <td>0.1183</td>\n",
       "      <td>0.2583</td>\n",
       "      <td>0.2156</td>\n",
       "      <td>0.3481</td>\n",
       "      <td>0.3337</td>\n",
       "      <td>0.2872</td>\n",
       "      <td>...</td>\n",
       "      <td>0.0084</td>\n",
       "      <td>0.0089</td>\n",
       "      <td>0.0048</td>\n",
       "      <td>0.0094</td>\n",
       "      <td>0.0191</td>\n",
       "      <td>0.0140</td>\n",
       "      <td>0.0049</td>\n",
       "      <td>0.0052</td>\n",
       "      <td>0.0044</td>\n",
       "      <td>R</td>\n",
       "    </tr>\n",
       "    <tr>\n",
       "      <th>2</th>\n",
       "      <td>0.0262</td>\n",
       "      <td>0.0582</td>\n",
       "      <td>0.1099</td>\n",
       "      <td>0.1083</td>\n",
       "      <td>0.0974</td>\n",
       "      <td>0.2280</td>\n",
       "      <td>0.2431</td>\n",
       "      <td>0.3771</td>\n",
       "      <td>0.5598</td>\n",
       "      <td>0.6194</td>\n",
       "      <td>...</td>\n",
       "      <td>0.0232</td>\n",
       "      <td>0.0166</td>\n",
       "      <td>0.0095</td>\n",
       "      <td>0.0180</td>\n",
       "      <td>0.0244</td>\n",
       "      <td>0.0316</td>\n",
       "      <td>0.0164</td>\n",
       "      <td>0.0095</td>\n",
       "      <td>0.0078</td>\n",
       "      <td>R</td>\n",
       "    </tr>\n",
       "    <tr>\n",
       "      <th>3</th>\n",
       "      <td>0.0100</td>\n",
       "      <td>0.0171</td>\n",
       "      <td>0.0623</td>\n",
       "      <td>0.0205</td>\n",
       "      <td>0.0205</td>\n",
       "      <td>0.0368</td>\n",
       "      <td>0.1098</td>\n",
       "      <td>0.1276</td>\n",
       "      <td>0.0598</td>\n",
       "      <td>0.1264</td>\n",
       "      <td>...</td>\n",
       "      <td>0.0121</td>\n",
       "      <td>0.0036</td>\n",
       "      <td>0.0150</td>\n",
       "      <td>0.0085</td>\n",
       "      <td>0.0073</td>\n",
       "      <td>0.0050</td>\n",
       "      <td>0.0044</td>\n",
       "      <td>0.0040</td>\n",
       "      <td>0.0117</td>\n",
       "      <td>R</td>\n",
       "    </tr>\n",
       "    <tr>\n",
       "      <th>4</th>\n",
       "      <td>0.0762</td>\n",
       "      <td>0.0666</td>\n",
       "      <td>0.0481</td>\n",
       "      <td>0.0394</td>\n",
       "      <td>0.0590</td>\n",
       "      <td>0.0649</td>\n",
       "      <td>0.1209</td>\n",
       "      <td>0.2467</td>\n",
       "      <td>0.3564</td>\n",
       "      <td>0.4459</td>\n",
       "      <td>...</td>\n",
       "      <td>0.0031</td>\n",
       "      <td>0.0054</td>\n",
       "      <td>0.0105</td>\n",
       "      <td>0.0110</td>\n",
       "      <td>0.0015</td>\n",
       "      <td>0.0072</td>\n",
       "      <td>0.0048</td>\n",
       "      <td>0.0107</td>\n",
       "      <td>0.0094</td>\n",
       "      <td>R</td>\n",
       "    </tr>\n",
       "  </tbody>\n",
       "</table>\n",
       "<p>5 rows × 61 columns</p>\n",
       "</div>"
      ],
      "text/plain": [
       "   Freq_1  Freq_2  Freq_3  Freq_4  Freq_5  Freq_6  Freq_7  Freq_8  Freq_9  \\\n",
       "0  0.0200  0.0371  0.0428  0.0207  0.0954  0.0986  0.1539  0.1601  0.3109   \n",
       "1  0.0453  0.0523  0.0843  0.0689  0.1183  0.2583  0.2156  0.3481  0.3337   \n",
       "2  0.0262  0.0582  0.1099  0.1083  0.0974  0.2280  0.2431  0.3771  0.5598   \n",
       "3  0.0100  0.0171  0.0623  0.0205  0.0205  0.0368  0.1098  0.1276  0.0598   \n",
       "4  0.0762  0.0666  0.0481  0.0394  0.0590  0.0649  0.1209  0.2467  0.3564   \n",
       "\n",
       "   Freq_10  ...  Freq_52  Freq_53  Freq_54  Freq_55  Freq_56  Freq_57  \\\n",
       "0   0.2111  ...   0.0027   0.0065   0.0159   0.0072   0.0167   0.0180   \n",
       "1   0.2872  ...   0.0084   0.0089   0.0048   0.0094   0.0191   0.0140   \n",
       "2   0.6194  ...   0.0232   0.0166   0.0095   0.0180   0.0244   0.0316   \n",
       "3   0.1264  ...   0.0121   0.0036   0.0150   0.0085   0.0073   0.0050   \n",
       "4   0.4459  ...   0.0031   0.0054   0.0105   0.0110   0.0015   0.0072   \n",
       "\n",
       "   Freq_58  Freq_59  Freq_60  Label  \n",
       "0   0.0084   0.0090   0.0032      R  \n",
       "1   0.0049   0.0052   0.0044      R  \n",
       "2   0.0164   0.0095   0.0078      R  \n",
       "3   0.0044   0.0040   0.0117      R  \n",
       "4   0.0048   0.0107   0.0094      R  \n",
       "\n",
       "[5 rows x 61 columns]"
      ]
     },
     "execution_count": 3,
     "metadata": {},
     "output_type": "execute_result"
    }
   ],
   "source": [
    "df.head()"
   ]
  },
  {
   "cell_type": "markdown",
   "metadata": {},
   "source": [
    "### EDA"
   ]
  },
  {
   "cell_type": "code",
   "execution_count": 6,
   "metadata": {},
   "outputs": [
    {
     "data": {
      "text/plain": [
       "<AxesSubplot: >"
      ]
     },
     "execution_count": 6,
     "metadata": {},
     "output_type": "execute_result"
    },
    {
     "data": {
      "image/png": "[encoded data removed]",
      "text/plain": [
       "<Figure size 600x400 with 2 Axes>"
      ]
     },
     "metadata": {},
     "output_type": "display_data"
    }
   ],
   "source": [
    "plt.figure(figsize = (6,4))\n",
    "sns.heatmap(data = df.corr(), cmap='coolwarm')"
   ]
  },
  {
   "cell_type": "code",
   "execution_count": 7,
   "metadata": {},
   "outputs": [
    {
     "data": {
      "text/plain": [
       "Freq_10    0.341142\n",
       "Freq_49    0.351312\n",
       "Freq_12    0.392245\n",
       "Freq_11    0.432855\n",
       "Target     1.000000\n",
       "Name: Target, dtype: float64"
      ]
     },
     "execution_count": 7,
     "metadata": {},
     "output_type": "execute_result"
    }
   ],
   "source": [
    "df['Target'] = df['Label'].map({'R':0,'M':1})\n",
    "df.corr()['Target'].sort_values().tail(5)"
   ]
  },
  {
   "cell_type": "code",
   "execution_count": 9,
   "metadata": {},
   "outputs": [
    {
     "data": {
      "text/html": [
       "<div>\n",
       "<style scoped>\n",
       "    .dataframe tbody tr th:only-of-type {\n",
       "        vertical-align: middle;\n",
       "    }\n",
       "\n",
       "    .dataframe tbody tr th {\n",
       "        vertical-align: top;\n",
       "    }\n",
       "\n",
       "    .dataframe thead th {\n",
       "        text-align: right;\n",
       "    }\n",
       "</style>\n",
       "<table border=\"1\" class=\"dataframe\">\n",
       "  <thead>\n",
       "    <tr style=\"text-align: right;\">\n",
       "      <th></th>\n",
       "      <th>Freq_36</th>\n",
       "      <th>Freq_35</th>\n",
       "      <th>Freq_37</th>\n",
       "      <th>Freq_34</th>\n",
       "      <th>Freq_31</th>\n",
       "      <th>Freq_33</th>\n",
       "      <th>Freq_32</th>\n",
       "      <th>Freq_38</th>\n",
       "      <th>Freq_40</th>\n",
       "      <th>Freq_17</th>\n",
       "      <th>...</th>\n",
       "      <th>Freq_46</th>\n",
       "      <th>Freq_13</th>\n",
       "      <th>Freq_9</th>\n",
       "      <th>Freq_48</th>\n",
       "      <th>Freq_45</th>\n",
       "      <th>Freq_10</th>\n",
       "      <th>Freq_49</th>\n",
       "      <th>Freq_12</th>\n",
       "      <th>Freq_11</th>\n",
       "      <th>Target</th>\n",
       "    </tr>\n",
       "  </thead>\n",
       "  <tbody>\n",
       "    <tr>\n",
       "      <th>Freq_1</th>\n",
       "      <td>0.080722</td>\n",
       "      <td>0.098118</td>\n",
       "      <td>0.119565</td>\n",
       "      <td>0.031319</td>\n",
       "      <td>-0.048370</td>\n",
       "      <td>-0.031939</td>\n",
       "      <td>-0.030444</td>\n",
       "      <td>0.209873</td>\n",
       "      <td>0.099993</td>\n",
       "      <td>0.137845</td>\n",
       "      <td>...</td>\n",
       "      <td>0.319354</td>\n",
       "      <td>0.210722</td>\n",
       "      <td>0.353420</td>\n",
       "      <td>0.203234</td>\n",
       "      <td>0.279968</td>\n",
       "      <td>0.318276</td>\n",
       "      <td>0.247560</td>\n",
       "      <td>0.210861</td>\n",
       "      <td>0.344058</td>\n",
       "      <td>0.271694</td>\n",
       "    </tr>\n",
       "    <tr>\n",
       "      <th>Freq_2</th>\n",
       "      <td>0.132611</td>\n",
       "      <td>0.115824</td>\n",
       "      <td>0.169186</td>\n",
       "      <td>-0.004247</td>\n",
       "      <td>-0.055862</td>\n",
       "      <td>-0.108272</td>\n",
       "      <td>-0.049683</td>\n",
       "      <td>0.217494</td>\n",
       "      <td>0.098350</td>\n",
       "      <td>0.152170</td>\n",
       "      <td>...</td>\n",
       "      <td>0.304247</td>\n",
       "      <td>0.249596</td>\n",
       "      <td>0.316733</td>\n",
       "      <td>0.265279</td>\n",
       "      <td>0.285716</td>\n",
       "      <td>0.270782</td>\n",
       "      <td>0.313995</td>\n",
       "      <td>0.194102</td>\n",
       "      <td>0.297065</td>\n",
       "      <td>0.231238</td>\n",
       "    </tr>\n",
       "    <tr>\n",
       "      <th>Freq_3</th>\n",
       "      <td>0.053070</td>\n",
       "      <td>0.017053</td>\n",
       "      <td>0.107530</td>\n",
       "      <td>-0.099409</td>\n",
       "      <td>-0.106198</td>\n",
       "      <td>-0.170671</td>\n",
       "      <td>-0.109895</td>\n",
       "      <td>0.130276</td>\n",
       "      <td>0.074137</td>\n",
       "      <td>0.201093</td>\n",
       "      <td>...</td>\n",
       "      <td>0.173649</td>\n",
       "      <td>0.258767</td>\n",
       "      <td>0.252691</td>\n",
       "      <td>0.234896</td>\n",
       "      <td>0.180734</td>\n",
       "      <td>0.219637</td>\n",
       "      <td>0.223074</td>\n",
       "      <td>0.214807</td>\n",
       "      <td>0.274610</td>\n",
       "      <td>0.192195</td>\n",
       "    </tr>\n",
       "    <tr>\n",
       "      <th>Freq_4</th>\n",
       "      <td>0.039282</td>\n",
       "      <td>0.015200</td>\n",
       "      <td>0.063486</td>\n",
       "      <td>-0.083965</td>\n",
       "      <td>-0.190086</td>\n",
       "      <td>-0.164651</td>\n",
       "      <td>-0.169987</td>\n",
       "      <td>0.089887</td>\n",
       "      <td>0.045141</td>\n",
       "      <td>0.223203</td>\n",
       "      <td>...</td>\n",
       "      <td>0.080012</td>\n",
       "      <td>0.215754</td>\n",
       "      <td>0.247078</td>\n",
       "      <td>0.121065</td>\n",
       "      <td>0.087824</td>\n",
       "      <td>0.237769</td>\n",
       "      <td>0.133294</td>\n",
       "      <td>0.175381</td>\n",
       "      <td>0.271881</td>\n",
       "      <td>0.250638</td>\n",
       "    </tr>\n",
       "    <tr>\n",
       "      <th>Freq_5</th>\n",
       "      <td>-0.073481</td>\n",
       "      <td>-0.086529</td>\n",
       "      <td>-0.064617</td>\n",
       "      <td>-0.140559</td>\n",
       "      <td>-0.214336</td>\n",
       "      <td>-0.200586</td>\n",
       "      <td>-0.173485</td>\n",
       "      <td>-0.008620</td>\n",
       "      <td>0.061616</td>\n",
       "      <td>0.326477</td>\n",
       "      <td>...</td>\n",
       "      <td>0.081964</td>\n",
       "      <td>0.299086</td>\n",
       "      <td>0.177906</td>\n",
       "      <td>0.084435</td>\n",
       "      <td>0.089202</td>\n",
       "      <td>0.183219</td>\n",
       "      <td>0.088128</td>\n",
       "      <td>0.211657</td>\n",
       "      <td>0.231684</td>\n",
       "      <td>0.222232</td>\n",
       "    </tr>\n",
       "    <tr>\n",
       "      <th>...</th>\n",
       "      <td>...</td>\n",
       "      <td>...</td>\n",
       "      <td>...</td>\n",
       "      <td>...</td>\n",
       "      <td>...</td>\n",
       "      <td>...</td>\n",
       "      <td>...</td>\n",
       "      <td>...</td>\n",
       "      <td>...</td>\n",
       "      <td>...</td>\n",
       "      <td>...</td>\n",
       "      <td>...</td>\n",
       "      <td>...</td>\n",
       "      <td>...</td>\n",
       "      <td>...</td>\n",
       "      <td>...</td>\n",
       "      <td>...</td>\n",
       "      <td>...</td>\n",
       "      <td>...</td>\n",
       "      <td>...</td>\n",
       "      <td>...</td>\n",
       "    </tr>\n",
       "    <tr>\n",
       "      <th>Freq_57</th>\n",
       "      <td>0.189471</td>\n",
       "      <td>0.168361</td>\n",
       "      <td>0.180789</td>\n",
       "      <td>0.106959</td>\n",
       "      <td>-0.018733</td>\n",
       "      <td>0.045806</td>\n",
       "      <td>0.010611</td>\n",
       "      <td>0.156320</td>\n",
       "      <td>0.105603</td>\n",
       "      <td>0.145708</td>\n",
       "      <td>...</td>\n",
       "      <td>0.162125</td>\n",
       "      <td>0.057870</td>\n",
       "      <td>0.193963</td>\n",
       "      <td>0.196814</td>\n",
       "      <td>0.144281</td>\n",
       "      <td>0.140327</td>\n",
       "      <td>0.173098</td>\n",
       "      <td>0.030732</td>\n",
       "      <td>0.103405</td>\n",
       "      <td>0.000933</td>\n",
       "    </tr>\n",
       "    <tr>\n",
       "      <th>Freq_58</th>\n",
       "      <td>0.106275</td>\n",
       "      <td>0.143897</td>\n",
       "      <td>0.110760</td>\n",
       "      <td>0.083192</td>\n",
       "      <td>-0.036092</td>\n",
       "      <td>0.003712</td>\n",
       "      <td>0.018564</td>\n",
       "      <td>0.169710</td>\n",
       "      <td>0.143718</td>\n",
       "      <td>0.148563</td>\n",
       "      <td>...</td>\n",
       "      <td>0.237890</td>\n",
       "      <td>0.171140</td>\n",
       "      <td>0.231745</td>\n",
       "      <td>0.270198</td>\n",
       "      <td>0.167337</td>\n",
       "      <td>0.212277</td>\n",
       "      <td>0.328238</td>\n",
       "      <td>0.065273</td>\n",
       "      <td>0.193358</td>\n",
       "      <td>0.184191</td>\n",
       "    </tr>\n",
       "    <tr>\n",
       "      <th>Freq_59</th>\n",
       "      <td>0.222683</td>\n",
       "      <td>0.227783</td>\n",
       "      <td>0.163162</td>\n",
       "      <td>0.138214</td>\n",
       "      <td>-0.044197</td>\n",
       "      <td>0.054285</td>\n",
       "      <td>0.013499</td>\n",
       "      <td>0.206001</td>\n",
       "      <td>0.189058</td>\n",
       "      <td>0.121800</td>\n",
       "      <td>...</td>\n",
       "      <td>0.205291</td>\n",
       "      <td>0.151804</td>\n",
       "      <td>0.097293</td>\n",
       "      <td>0.221425</td>\n",
       "      <td>0.178402</td>\n",
       "      <td>0.058273</td>\n",
       "      <td>0.209152</td>\n",
       "      <td>0.044614</td>\n",
       "      <td>0.067726</td>\n",
       "      <td>0.130826</td>\n",
       "    </tr>\n",
       "    <tr>\n",
       "      <th>Freq_60</th>\n",
       "      <td>0.176982</td>\n",
       "      <td>0.191193</td>\n",
       "      <td>0.166263</td>\n",
       "      <td>0.075686</td>\n",
       "      <td>-0.043015</td>\n",
       "      <td>-0.015804</td>\n",
       "      <td>-0.023863</td>\n",
       "      <td>0.233288</td>\n",
       "      <td>0.202034</td>\n",
       "      <td>0.093992</td>\n",
       "      <td>...</td>\n",
       "      <td>0.180691</td>\n",
       "      <td>0.061411</td>\n",
       "      <td>0.095243</td>\n",
       "      <td>0.123666</td>\n",
       "      <td>0.157181</td>\n",
       "      <td>0.097358</td>\n",
       "      <td>0.088640</td>\n",
       "      <td>0.071364</td>\n",
       "      <td>0.089695</td>\n",
       "      <td>0.090055</td>\n",
       "    </tr>\n",
       "    <tr>\n",
       "      <th>Target</th>\n",
       "      <td>-0.269151</td>\n",
       "      <td>-0.227670</td>\n",
       "      <td>-0.209055</td>\n",
       "      <td>-0.172010</td>\n",
       "      <td>-0.110728</td>\n",
       "      <td>-0.107184</td>\n",
       "      <td>-0.055275</td>\n",
       "      <td>-0.040527</td>\n",
       "      <td>-0.035928</td>\n",
       "      <td>-0.003969</td>\n",
       "      <td>...</td>\n",
       "      <td>0.305610</td>\n",
       "      <td>0.312811</td>\n",
       "      <td>0.321448</td>\n",
       "      <td>0.329333</td>\n",
       "      <td>0.339406</td>\n",
       "      <td>0.341142</td>\n",
       "      <td>0.351312</td>\n",
       "      <td>0.392245</td>\n",
       "      <td>0.432855</td>\n",
       "      <td>1.000000</td>\n",
       "    </tr>\n",
       "  </tbody>\n",
       "</table>\n",
       "<p>61 rows × 61 columns</p>\n",
       "</div>"
      ],
      "text/plain": [
       "          Freq_36   Freq_35   Freq_37   Freq_34   Freq_31   Freq_33   Freq_32  \\\n",
       "Freq_1   0.080722  0.098118  0.119565  0.031319 -0.048370 -0.031939 -0.030444   \n",
       "Freq_2   0.132611  0.115824  0.169186 -0.004247 -0.055862 -0.108272 -0.049683   \n",
       "Freq_3   0.053070  0.017053  0.107530 -0.099409 -0.106198 -0.170671 -0.109895   \n",
       "Freq_4   0.039282  0.015200  0.063486 -0.083965 -0.190086 -0.164651 -0.169987   \n",
       "Freq_5  -0.073481 -0.086529 -0.064617 -0.140559 -0.214336 -0.200586 -0.173485   \n",
       "...           ...       ...       ...       ...       ...       ...       ...   \n",
       "Freq_57  0.189471  0.168361  0.180789  0.106959 -0.018733  0.045806  0.010611   \n",
       "Freq_58  0.106275  0.143897  0.110760  0.083192 -0.036092  0.003712  0.018564   \n",
       "Freq_59  0.222683  0.227783  0.163162  0.138214 -0.044197  0.054285  0.013499   \n",
       "Freq_60  0.176982  0.191193  0.166263  0.075686 -0.043015 -0.015804 -0.023863   \n",
       "Target  -0.269151 -0.227670 -0.209055 -0.172010 -0.110728 -0.107184 -0.055275   \n",
       "\n",
       "          Freq_38   Freq_40   Freq_17  ...   Freq_46   Freq_13    Freq_9  \\\n",
       "Freq_1   0.209873  0.099993  0.137845  ...  0.319354  0.210722  0.353420   \n",
       "Freq_2   0.217494  0.098350  0.152170  ...  0.304247  0.249596  0.316733   \n",
       "Freq_3   0.130276  0.074137  0.201093  ...  0.173649  0.258767  0.252691   \n",
       "Freq_4   0.089887  0.045141  0.223203  ...  0.080012  0.215754  0.247078   \n",
       "Freq_5  -0.008620  0.061616  0.326477  ...  0.081964  0.299086  0.177906   \n",
       "...           ...       ...       ...  ...       ...       ...       ...   \n",
       "Freq_57  0.156320  0.105603  0.145708  ...  0.162125  0.057870  0.193963   \n",
       "Freq_58  0.169710  0.143718  0.148563  ...  0.237890  0.171140  0.231745   \n",
       "Freq_59  0.206001  0.189058  0.121800  ...  0.205291  0.151804  0.097293   \n",
       "Freq_60  0.233288  0.202034  0.093992  ...  0.180691  0.061411  0.095243   \n",
       "Target  -0.040527 -0.035928 -0.003969  ...  0.305610  0.312811  0.321448   \n",
       "\n",
       "          Freq_48   Freq_45   Freq_10   Freq_49   Freq_12   Freq_11    Target  \n",
       "Freq_1   0.203234  0.279968  0.318276  0.247560  0.210861  0.344058  0.271694  \n",
       "Freq_2   0.265279  0.285716  0.270782  0.313995  0.194102  0.297065  0.231238  \n",
       "Freq_3   0.234896  0.180734  0.219637  0.223074  0.214807  0.274610  0.192195  \n",
       "Freq_4   0.121065  0.087824  0.237769  0.133294  0.175381  0.271881  0.250638  \n",
       "Freq_5   0.084435  0.089202  0.183219  0.088128  0.211657  0.231684  0.222232  \n",
       "...           ...       ...       ...       ...       ...       ...       ...  \n",
       "Freq_57  0.196814  0.144281  0.140327  0.173098  0.030732  0.103405  0.000933  \n",
       "Freq_58  0.270198  0.167337  0.212277  0.328238  0.065273  0.193358  0.184191  \n",
       "Freq_59  0.221425  0.178402  0.058273  0.209152  0.044614  0.067726  0.130826  \n",
       "Freq_60  0.123666  0.157181  0.097358  0.088640  0.071364  0.089695  0.090055  \n",
       "Target   0.329333  0.339406  0.341142  0.351312  0.392245  0.432855  1.000000  \n",
       "\n",
       "[61 rows x 61 columns]"
      ]
     },
     "execution_count": 9,
     "metadata": {},
     "output_type": "execute_result"
    }
   ],
   "source": [
    "df.corr().sort_values('Target').T"
   ]
  },
  {
   "cell_type": "code",
   "execution_count": 10,
   "metadata": {},
   "outputs": [
    {
     "data": {
      "text/html": [
       "<div>\n",
       "<style scoped>\n",
       "    .dataframe tbody tr th:only-of-type {\n",
       "        vertical-align: middle;\n",
       "    }\n",
       "\n",
       "    .dataframe tbody tr th {\n",
       "        vertical-align: top;\n",
       "    }\n",
       "\n",
       "    .dataframe thead th {\n",
       "        text-align: right;\n",
       "    }\n",
       "</style>\n",
       "<table border=\"1\" class=\"dataframe\">\n",
       "  <thead>\n",
       "    <tr style=\"text-align: right;\">\n",
       "      <th></th>\n",
       "      <th>Freq_1</th>\n",
       "      <th>Freq_2</th>\n",
       "      <th>Freq_3</th>\n",
       "      <th>Freq_4</th>\n",
       "      <th>Freq_5</th>\n",
       "      <th>Freq_6</th>\n",
       "      <th>Freq_7</th>\n",
       "      <th>Freq_8</th>\n",
       "      <th>Freq_9</th>\n",
       "      <th>Freq_10</th>\n",
       "      <th>...</th>\n",
       "      <th>Freq_53</th>\n",
       "      <th>Freq_54</th>\n",
       "      <th>Freq_55</th>\n",
       "      <th>Freq_56</th>\n",
       "      <th>Freq_57</th>\n",
       "      <th>Freq_58</th>\n",
       "      <th>Freq_59</th>\n",
       "      <th>Freq_60</th>\n",
       "      <th>Label</th>\n",
       "      <th>Target</th>\n",
       "    </tr>\n",
       "  </thead>\n",
       "  <tbody>\n",
       "    <tr>\n",
       "      <th>0</th>\n",
       "      <td>0.0200</td>\n",
       "      <td>0.0371</td>\n",
       "      <td>0.0428</td>\n",
       "      <td>0.0207</td>\n",
       "      <td>0.0954</td>\n",
       "      <td>0.0986</td>\n",
       "      <td>0.1539</td>\n",
       "      <td>0.1601</td>\n",
       "      <td>0.3109</td>\n",
       "      <td>0.2111</td>\n",
       "      <td>...</td>\n",
       "      <td>0.0065</td>\n",
       "      <td>0.0159</td>\n",
       "      <td>0.0072</td>\n",
       "      <td>0.0167</td>\n",
       "      <td>0.0180</td>\n",
       "      <td>0.0084</td>\n",
       "      <td>0.0090</td>\n",
       "      <td>0.0032</td>\n",
       "      <td>R</td>\n",
       "      <td>0</td>\n",
       "    </tr>\n",
       "    <tr>\n",
       "      <th>1</th>\n",
       "      <td>0.0453</td>\n",
       "      <td>0.0523</td>\n",
       "      <td>0.0843</td>\n",
       "      <td>0.0689</td>\n",
       "      <td>0.1183</td>\n",
       "      <td>0.2583</td>\n",
       "      <td>0.2156</td>\n",
       "      <td>0.3481</td>\n",
       "      <td>0.3337</td>\n",
       "      <td>0.2872</td>\n",
       "      <td>...</td>\n",
       "      <td>0.0089</td>\n",
       "      <td>0.0048</td>\n",
       "      <td>0.0094</td>\n",
       "      <td>0.0191</td>\n",
       "      <td>0.0140</td>\n",
       "      <td>0.0049</td>\n",
       "      <td>0.0052</td>\n",
       "      <td>0.0044</td>\n",
       "      <td>R</td>\n",
       "      <td>0</td>\n",
       "    </tr>\n",
       "    <tr>\n",
       "      <th>2</th>\n",
       "      <td>0.0262</td>\n",
       "      <td>0.0582</td>\n",
       "      <td>0.1099</td>\n",
       "      <td>0.1083</td>\n",
       "      <td>0.0974</td>\n",
       "      <td>0.2280</td>\n",
       "      <td>0.2431</td>\n",
       "      <td>0.3771</td>\n",
       "      <td>0.5598</td>\n",
       "      <td>0.6194</td>\n",
       "      <td>...</td>\n",
       "      <td>0.0166</td>\n",
       "      <td>0.0095</td>\n",
       "      <td>0.0180</td>\n",
       "      <td>0.0244</td>\n",
       "      <td>0.0316</td>\n",
       "      <td>0.0164</td>\n",
       "      <td>0.0095</td>\n",
       "      <td>0.0078</td>\n",
       "      <td>R</td>\n",
       "      <td>0</td>\n",
       "    </tr>\n",
       "    <tr>\n",
       "      <th>3</th>\n",
       "      <td>0.0100</td>\n",
       "      <td>0.0171</td>\n",
       "      <td>0.0623</td>\n",
       "      <td>0.0205</td>\n",
       "      <td>0.0205</td>\n",
       "      <td>0.0368</td>\n",
       "      <td>0.1098</td>\n",
       "      <td>0.1276</td>\n",
       "      <td>0.0598</td>\n",
       "      <td>0.1264</td>\n",
       "      <td>...</td>\n",
       "      <td>0.0036</td>\n",
       "      <td>0.0150</td>\n",
       "      <td>0.0085</td>\n",
       "      <td>0.0073</td>\n",
       "      <td>0.0050</td>\n",
       "      <td>0.0044</td>\n",
       "      <td>0.0040</td>\n",
       "      <td>0.0117</td>\n",
       "      <td>R</td>\n",
       "      <td>0</td>\n",
       "    </tr>\n",
       "    <tr>\n",
       "      <th>4</th>\n",
       "      <td>0.0762</td>\n",
       "      <td>0.0666</td>\n",
       "      <td>0.0481</td>\n",
       "      <td>0.0394</td>\n",
       "      <td>0.0590</td>\n",
       "      <td>0.0649</td>\n",
       "      <td>0.1209</td>\n",
       "      <td>0.2467</td>\n",
       "      <td>0.3564</td>\n",
       "      <td>0.4459</td>\n",
       "      <td>...</td>\n",
       "      <td>0.0054</td>\n",
       "      <td>0.0105</td>\n",
       "      <td>0.0110</td>\n",
       "      <td>0.0015</td>\n",
       "      <td>0.0072</td>\n",
       "      <td>0.0048</td>\n",
       "      <td>0.0107</td>\n",
       "      <td>0.0094</td>\n",
       "      <td>R</td>\n",
       "      <td>0</td>\n",
       "    </tr>\n",
       "  </tbody>\n",
       "</table>\n",
       "<p>5 rows × 62 columns</p>\n",
       "</div>"
      ],
      "text/plain": [
       "   Freq_1  Freq_2  Freq_3  Freq_4  Freq_5  Freq_6  Freq_7  Freq_8  Freq_9  \\\n",
       "0  0.0200  0.0371  0.0428  0.0207  0.0954  0.0986  0.1539  0.1601  0.3109   \n",
       "1  0.0453  0.0523  0.0843  0.0689  0.1183  0.2583  0.2156  0.3481  0.3337   \n",
       "2  0.0262  0.0582  0.1099  0.1083  0.0974  0.2280  0.2431  0.3771  0.5598   \n",
       "3  0.0100  0.0171  0.0623  0.0205  0.0205  0.0368  0.1098  0.1276  0.0598   \n",
       "4  0.0762  0.0666  0.0481  0.0394  0.0590  0.0649  0.1209  0.2467  0.3564   \n",
       "\n",
       "   Freq_10  ...  Freq_53  Freq_54  Freq_55  Freq_56  Freq_57  Freq_58  \\\n",
       "0   0.2111  ...   0.0065   0.0159   0.0072   0.0167   0.0180   0.0084   \n",
       "1   0.2872  ...   0.0089   0.0048   0.0094   0.0191   0.0140   0.0049   \n",
       "2   0.6194  ...   0.0166   0.0095   0.0180   0.0244   0.0316   0.0164   \n",
       "3   0.1264  ...   0.0036   0.0150   0.0085   0.0073   0.0050   0.0044   \n",
       "4   0.4459  ...   0.0054   0.0105   0.0110   0.0015   0.0072   0.0048   \n",
       "\n",
       "   Freq_59  Freq_60  Label  Target  \n",
       "0   0.0090   0.0032      R       0  \n",
       "1   0.0052   0.0044      R       0  \n",
       "2   0.0095   0.0078      R       0  \n",
       "3   0.0040   0.0117      R       0  \n",
       "4   0.0107   0.0094      R       0  \n",
       "\n",
       "[5 rows x 62 columns]"
      ]
     },
     "execution_count": 10,
     "metadata": {},
     "output_type": "execute_result"
    }
   ],
   "source": [
    "df.head()"
   ]
  },
  {
   "cell_type": "markdown",
   "metadata": {},
   "source": [
    "### Data Preparation"
   ]
  },
  {
   "cell_type": "code",
   "execution_count": 11,
   "metadata": {},
   "outputs": [],
   "source": [
    "X = df.drop(['Label', 'Target'], axis = 1)\n",
    "y = df['Label']\n",
    "\n",
    "from sklearn.model_selection import train_test_split\n",
    "\n",
    "X_train, X_test, y_train, y_test = train_test_split(X, y, test_size=0.1, random_state=42)"
   ]
  },
  {
   "cell_type": "code",
   "execution_count": 12,
   "metadata": {},
   "outputs": [
    {
     "data": {
      "text/plain": [
       "StandardScaler()"
      ]
     },
     "execution_count": 12,
     "metadata": {},
     "output_type": "execute_result"
    }
   ],
   "source": [
    "from sklearn.preprocessing import StandardScaler\n",
    "\n",
    "scaler = StandardScaler()\n",
    "\n",
    "scaler.fit(X_train)\n"
   ]
  },
  {
   "cell_type": "code",
   "execution_count": 13,
   "metadata": {},
   "outputs": [],
   "source": [
    "X_train = scaler.transform(X_train)"
   ]
  },
  {
   "cell_type": "code",
   "execution_count": 14,
   "metadata": {},
   "outputs": [],
   "source": [
    "X_test = scaler.transform(X_test)"
   ]
  },
  {
   "cell_type": "markdown",
   "metadata": {},
   "source": [
    "### GridSearchCV | Model"
   ]
  },
  {
   "cell_type": "code",
   "execution_count": 15,
   "metadata": {},
   "outputs": [],
   "source": [
    "from sklearn.neighbors import KNeighborsClassifier"
   ]
  },
  {
   "cell_type": "code",
   "execution_count": 16,
   "metadata": {},
   "outputs": [],
   "source": [
    "knn_model = KNeighborsClassifier()"
   ]
  },
  {
   "cell_type": "code",
   "execution_count": 17,
   "metadata": {},
   "outputs": [],
   "source": [
    "from sklearn.model_selection import GridSearchCV\n",
    "\n",
    "k_values = list(range(1,30))\n",
    "\n",
    "param_grid = {'n_neighbors': k_values}\n",
    "grid_model = GridSearchCV(knn_model, param_grid,cv = 5, scoring = 'accuracy')\n"
   ]
  },
  {
   "cell_type": "code",
   "execution_count": 18,
   "metadata": {},
   "outputs": [
    {
     "data": {
      "text/plain": [
       "GridSearchCV(cv=5, estimator=KNeighborsClassifier(),\n",
       "             param_grid={'n_neighbors': [1, 2, 3, 4, 5, 6, 7, 8, 9, 10, 11, 12,\n",
       "                                         13, 14, 15, 16, 17, 18, 19, 20, 21, 22,\n",
       "                                         23, 24, 25, 26, 27, 28, 29]},\n",
       "             scoring='accuracy')"
      ]
     },
     "execution_count": 18,
     "metadata": {},
     "output_type": "execute_result"
    }
   ],
   "source": [
    "grid_model.fit(X_train,y_train)"
   ]
  },
  {
   "cell_type": "code",
   "execution_count": 19,
   "metadata": {},
   "outputs": [
    {
     "data": {
      "text/plain": [
       "{'algorithm': 'auto',\n",
       " 'leaf_size': 30,\n",
       " 'metric': 'minkowski',\n",
       " 'metric_params': None,\n",
       " 'n_jobs': None,\n",
       " 'n_neighbors': 1,\n",
       " 'p': 2,\n",
       " 'weights': 'uniform'}"
      ]
     },
     "execution_count": 19,
     "metadata": {},
     "output_type": "execute_result"
    }
   ],
   "source": [
    "grid_model.best_estimator_.get_params()"
   ]
  },
  {
   "cell_type": "code",
   "execution_count": 20,
   "metadata": {},
   "outputs": [],
   "source": [
    "y_pred = grid_model.predict(X_test)"
   ]
  },
  {
   "cell_type": "code",
   "execution_count": 22,
   "metadata": {},
   "outputs": [],
   "source": [
    "y_mts = grid_model.cv_results_['mean_test_score']"
   ]
  },
  {
   "cell_type": "code",
   "execution_count": 23,
   "metadata": {},
   "outputs": [
    {
     "data": {
      "text/plain": [
       "array([0.85618777, 0.79146515, 0.77524893, 0.75391181, 0.76472262,\n",
       "       0.74295875, 0.7487909 , 0.71650071, 0.71123755, 0.68435277,\n",
       "       0.70583215, 0.68435277, 0.68990043, 0.67382646, 0.68463727,\n",
       "       0.68449502, 0.7059744 , 0.71123755, 0.71123755, 0.67908962,\n",
       "       0.69530583, 0.67908962, 0.68990043, 0.68463727, 0.70071124,\n",
       "       0.67923186, 0.67396871, 0.6685633 , 0.67923186])"
      ]
     },
     "execution_count": 23,
     "metadata": {},
     "output_type": "execute_result"
    }
   ],
   "source": [
    "y_mts"
   ]
  },
  {
   "cell_type": "code",
   "execution_count": 24,
   "metadata": {},
   "outputs": [
    {
     "data": {
      "text/plain": [
       "Text(0, 0.5, 'Accuracy')"
      ]
     },
     "execution_count": 24,
     "metadata": {},
     "output_type": "execute_result"
    },
    {
     "data": {
      "image/png": "[encoded data removed]",
      "text/plain": [
       "<Figure size 640x480 with 1 Axes>"
      ]
     },
     "metadata": {},
     "output_type": "display_data"
    }
   ],
   "source": [
    "scores = grid_model.cv_results_['mean_test_score']\n",
    "plt.plot(k_values,scores,'o-')\n",
    "plt.xlabel(\"K\")\n",
    "plt.ylabel(\"Accuracy\")"
   ]
  },
  {
   "cell_type": "markdown",
   "metadata": {},
   "source": [
    "### Model Evaluation"
   ]
  },
  {
   "cell_type": "code",
   "execution_count": 26,
   "metadata": {},
   "outputs": [
    {
     "name": "stdout",
     "output_type": "stream",
     "text": [
      "[[12  1]\n",
      " [ 1  7]]\n"
     ]
    }
   ],
   "source": [
    "from sklearn.metrics import confusion_matrix\n",
    "print(confusion_matrix(y_test, y_pred))"
   ]
  },
  {
   "cell_type": "code",
   "execution_count": 27,
   "metadata": {},
   "outputs": [
    {
     "name": "stdout",
     "output_type": "stream",
     "text": [
      "              precision    recall  f1-score   support\n",
      "\n",
      "           M       0.92      0.92      0.92        13\n",
      "           R       0.88      0.88      0.88         8\n",
      "\n",
      "    accuracy                           0.90        21\n",
      "   macro avg       0.90      0.90      0.90        21\n",
      "weighted avg       0.90      0.90      0.90        21\n",
      "\n"
     ]
    }
   ],
   "source": [
    "print(classification_report(y_test,y_pred))"
   ]
  },
  {
   "cell_type": "code",
   "execution_count": 44,
   "metadata": {},
   "outputs": [],
   "source": [
    "from sklearn.metrics import ConfusionMatrixDisplay"
   ]
  },
  {
   "cell_type": "code",
   "execution_count": 46,
   "metadata": {},
   "outputs": [
    {
     "data": {
      "text/plain": [
       "<sklearn.metrics._plot.confusion_matrix.ConfusionMatrixDisplay at 0x7fedf201f940>"
      ]
     },
     "execution_count": 46,
     "metadata": {},
     "output_type": "execute_result"
    },
    {
     "data": {
      "image/png": "[encoded data removed]",
      "text/plain": [
       "<Figure size 640x480 with 2 Axes>"
      ]
     },
     "metadata": {},
     "output_type": "display_data"
    }
   ],
   "source": [
    "ConfusionMatrixDisplay.from_estimator(grid_model, X_test, y_test)"
   ]
  },
  {
   "cell_type": "code",
   "execution_count": null,
   "metadata": {},
   "outputs": [],
   "source": []
  },
  {
   "cell_type": "code",
   "execution_count": null,
   "metadata": {},
   "outputs": [],
   "source": []
  },
  {
   "cell_type": "code",
   "execution_count": null,
   "metadata": {},
   "outputs": [],
   "source": []
  }
 ],
 "metadata": {
  "kernelspec": {
   "display_name": "Python 3 (ipykernel)",
   "language": "python",
   "name": "python3"
  },
  "language_info": {
   "codemirror_mode": {
    "name": "ipython",
    "version": 3
   },
   "file_extension": ".py",
   "mimetype": "text/x-python",
   "name": "python",
   "nbconvert_exporter": "python",
   "pygments_lexer": "ipython3",
   "version": "3.9.15"
  }
 },
 "nbformat": 4,
 "nbformat_minor": 4
}
